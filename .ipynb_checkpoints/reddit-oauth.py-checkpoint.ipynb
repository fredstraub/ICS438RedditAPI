{
 "cells": [
  {
   "cell_type": "code",
   "execution_count": 16,
   "id": "453f6523",
   "metadata": {},
   "outputs": [
    {
     "ename": "SyntaxError",
     "evalue": "EOL while scanning string literal (2463780318.py, line 14)",
     "output_type": "error",
     "traceback": [
      "\u001b[0;36m  File \u001b[0;32m\"/var/folders/6s/jfrb73kd5bn55vmktbqt8vzh0000gn/T/ipykernel_1298/2463780318.py\"\u001b[0;36m, line \u001b[0;32m14\u001b[0m\n\u001b[0;31m    CLIENT_ID = 't40DysB0dvbS6Yq4u1hhwA\u001b[0m\n\u001b[0m                                       ^\u001b[0m\n\u001b[0;31mSyntaxError\u001b[0m\u001b[0;31m:\u001b[0m EOL while scanning string literal\n"
     ]
    }
   ],
   "source": [
    "import requests\n",
    "\n",
    "\n",
    "# f=open(\"Reddit_API_Secrets.txt\", \"r\")\n",
    "# lines=f.readlines()\n",
    "# USER_ID=lines[1]\n",
    "# USER_PASSWORD=lines[4]\n",
    "# CLIENT_ID=lines[7]\n",
    "# SECRET_TOKEN=lines[10]\n",
    "# f.close()\n",
    "\n",
    "USER_ID = 'Forward_Pen_7622'\n",
    "USER_PASSWORD = 'UHMp@55w0rd'\n",
    "CLIENT_ID = 't40DysB0dvbS6Yq4u1hhwA'\n",
    "SECRET_TOKEN = 'likTDHh8DiOFFQbk98Sq9TfdYsllqg'\n",
    "\n",
    "\n",
    "# CLIENT_ID and SECRET_TOKEN in the Reddit_API_Secrets.txt file on my machine.\n",
    "auth = requests.auth.HTTPBasicAuth('<CLIENT_ID>', '<SECRET_TOKEN>')\n",
    "\n",
    "# USER_ID and USER_PASSOWRD in the Reddit_API_Secrets.txt file on my machine.\n",
    "data = {'grant_type': 'password',\n",
    "        'username': '<USER_ID>',\n",
    "        'password': '<USER_PASSWORD>'}\n",
    "\n",
    "# Header file set up for Reddit.\n",
    "headers = {\"User-Agent\": 'disneyAPI/0.0.1'}\n",
    "\n",
    "# Send OAuth token request.\n",
    "res = requests.post('https://www.reddit.com/api/v1/access_token',\n",
    "                   auth=auth, data=data, headers=headers)\n",
    "\n",
    "# Convert response to JSON, and get access token\n",
    "TOKEN = res.json()['access_token']\n",
    "\n",
    "# Add token to headers dictionary\n",
    "headers={**headers, **{'Authorization': f\"bearer {TOKEN}\"}}\n",
    "\n",
    "# Use headers for requests. Tokens last les than 2 hours.\n",
    "requests.get('https://oauth.reddit.com/api/v1/me', headers=headers)"
   ]
  },
  {
   "cell_type": "code",
   "execution_count": null,
   "id": "9de23213",
   "metadata": {},
   "outputs": [],
   "source": []
  },
  {
   "cell_type": "code",
   "execution_count": null,
   "id": "689185d2",
   "metadata": {},
   "outputs": [],
   "source": []
  }
 ],
 "metadata": {
  "kernelspec": {
   "display_name": "Python 3 (ipykernel)",
   "language": "python",
   "name": "python3"
  },
  "language_info": {
   "codemirror_mode": {
    "name": "ipython",
    "version": 3
   },
   "file_extension": ".py",
   "mimetype": "text/x-python",
   "name": "python",
   "nbconvert_exporter": "python",
   "pygments_lexer": "ipython3",
   "version": "3.9.7"
  }
 },
 "nbformat": 4,
 "nbformat_minor": 5
}
